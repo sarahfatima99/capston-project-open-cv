{
 "cells": [
  {
   "cell_type": "code",
   "execution_count": 1,
   "metadata": {},
   "outputs": [],
   "source": [
    "import cv2\n",
    "import numpy as np\n",
    "from sklearn.metrics import pairwise"
   ]
  },
  {
   "cell_type": "code",
   "execution_count": 9,
   "metadata": {},
   "outputs": [],
   "source": [
    "background= None\n",
    "accumulated_weight=0.5\n",
    "\n",
    "roi_top=20\n",
    "roi_bott0m=300\n",
    "roi_right=300\n",
    "roi_left=600"
   ]
  },
  {
   "cell_type": "code",
   "execution_count": 3,
   "metadata": {},
   "outputs": [],
   "source": [
    "def calc_accum_avg(frame,accum):\n",
    "    global background\n",
    "    if background is None:\n",
    "        background=frame.copy().astype('float')\n",
    "        return None\n",
    "    cv2.accumulateWeight(frame,background,accumulated_weight)"
   ]
  },
  {
   "cell_type": "code",
   "execution_count": 4,
   "metadata": {},
   "outputs": [],
   "source": [
    "def segment(frame,threshold=25): #binary\n",
    "    \n",
    "    diff=cv2.absdiff(background.astype('uint8'),frame)\n",
    "    \n",
    "    ret,thresholded=cv2.threshold(diff,threshold,255,cv2.THRESH_BINARY) #threshold=min value\n",
    "    image,countours,hierarchy=cv2.findCountours(thresholded.copy(),cv2.RETR_EXTERNAL,cv2.CHAIN_APPROX)\n",
    "    if len(cou=ntours)==0:\n",
    "        return None\n",
    "    \n",
    "    else:\n",
    "        #ASSUMING LARGEDT EX CONTOUR IN ROI IS HAND\n",
    "        hand_segment=max(contours,key=contourArea)\n",
    "        \n",
    "        return (thresholded,hand_segment)"
   ]
  },
  {
   "cell_type": "code",
   "execution_count": 5,
   "metadata": {},
   "outputs": [],
   "source": [
    "def count_fingers(thresholede,hand_segment):\n",
    "    \n",
    "    conv_hull=cv2.convexHull(hand_segment)\n",
    "    #top\n",
    "    top=tuple(conv_hull[conv_hull[:,:,1].argmin()][0])\n",
    "    bottom=tuple(conv_hull[conv_hull[:,:,1].argmin()][0])\n",
    "    left=tuple(conv_hull[conv_hull[:,:,0].argmin()][0])\n",
    "    right=tuple(conv_hull[conv_hull[:,:,0].argmin()][0])\n",
    "    cX=(left[0]+right[0])//2\n",
    "    cY=(top[1]+bottom[1])//2\n",
    "    distance=pairwise.euclidean_distances([cX,cY],Y=[left,right,top,bottom])[0]\n",
    "    max_distance=distance.max()\n",
    "    radius=int(0.9*max_distance)\n",
    "    circumfrence=(2*np.pi*radius)\n",
    "    circular_roi=np.zeros(thresholded[:2],dtype='uint8')\n",
    "    cv2.circle(circular_roi,(cX,cY),radius,255,10)\n",
    "    circular_roi=cv2.bitwise_and(thresholded,thresholded,mask=circular_roi)\n",
    "    image,contours,hierarchy=cv2.findCountours(circular_roi.copy(),cv2.RETER_EXTERENAL,cv2.CHAIN_APPROX_NONE)\n",
    "    count=0\n",
    "    for cnt in contours:\n",
    "        (x,y,w,h)=cv2.boundingRect(cnt)\n",
    "        out_of_wrist=(cY+(cY*0.25))>(y+h)\n",
    "        limit_points=((circumfrence*0.25)>cnt.shape[0])\n",
    "        if out_of_wrist and limit_points:\n",
    "            count+=1\n",
    "    return count"
   ]
  },
  {
   "cell_type": "code",
   "execution_count": 8,
   "metadata": {},
   "outputs": [
    {
     "ename": "NameError",
     "evalue": "name 'roi_bottom' is not defined",
     "output_type": "error",
     "traceback": [
      "\u001b[1;31m---------------------------------------------------------------------------\u001b[0m",
      "\u001b[1;31mNameError\u001b[0m                                 Traceback (most recent call last)",
      "\u001b[1;32m<ipython-input-8-c1c914a73839>\u001b[0m in \u001b[0;36m<module>\u001b[1;34m\u001b[0m\n\u001b[0;32m     10\u001b[0m     \u001b[0mret\u001b[0m\u001b[1;33m,\u001b[0m\u001b[0mframe\u001b[0m\u001b[1;33m=\u001b[0m\u001b[0mcam\u001b[0m\u001b[1;33m.\u001b[0m\u001b[0mread\u001b[0m\u001b[1;33m(\u001b[0m\u001b[1;33m)\u001b[0m\u001b[1;33m\u001b[0m\u001b[1;33m\u001b[0m\u001b[0m\n\u001b[0;32m     11\u001b[0m     \u001b[0mframe_copy\u001b[0m\u001b[1;33m=\u001b[0m\u001b[0mframe\u001b[0m\u001b[1;33m.\u001b[0m\u001b[0mcopy\u001b[0m\u001b[1;33m(\u001b[0m\u001b[1;33m)\u001b[0m\u001b[1;33m\u001b[0m\u001b[1;33m\u001b[0m\u001b[0m\n\u001b[1;32m---> 12\u001b[1;33m     \u001b[0mroi\u001b[0m\u001b[1;33m=\u001b[0m\u001b[0mframe\u001b[0m\u001b[1;33m[\u001b[0m\u001b[0mroi_top\u001b[0m\u001b[1;33m:\u001b[0m\u001b[0mroi_bottom\u001b[0m\u001b[1;33m,\u001b[0m\u001b[0mroi_right\u001b[0m\u001b[1;33m:\u001b[0m\u001b[0mroi_left\u001b[0m\u001b[1;33m]\u001b[0m\u001b[1;33m\u001b[0m\u001b[1;33m\u001b[0m\u001b[0m\n\u001b[0m\u001b[0;32m     13\u001b[0m     \u001b[0mgray\u001b[0m\u001b[1;33m=\u001b[0m\u001b[0mcv2\u001b[0m\u001b[1;33m.\u001b[0m\u001b[0mcvtColor\u001b[0m\u001b[1;33m(\u001b[0m\u001b[0mroi\u001b[0m\u001b[1;33m,\u001b[0m\u001b[0mcv2\u001b[0m\u001b[1;33m.\u001b[0m\u001b[0mCOLOR\u001b[0m\u001b[1;33m+\u001b[0m\u001b[0mBGR2GRAY\u001b[0m\u001b[1;33m)\u001b[0m\u001b[1;33m\u001b[0m\u001b[1;33m\u001b[0m\u001b[0m\n\u001b[0;32m     14\u001b[0m     \u001b[0mgray\u001b[0m\u001b[1;33m=\u001b[0m\u001b[0mcv2\u001b[0m\u001b[1;33m.\u001b[0m\u001b[0mGaussianBlur\u001b[0m\u001b[1;33m(\u001b[0m\u001b[0mgray\u001b[0m\u001b[1;33m,\u001b[0m\u001b[1;33m(\u001b[0m\u001b[1;36m7\u001b[0m\u001b[1;33m,\u001b[0m\u001b[1;36m7\u001b[0m\u001b[1;33m)\u001b[0m\u001b[1;33m,\u001b[0m\u001b[1;36m0\u001b[0m\u001b[1;33m)\u001b[0m\u001b[1;33m\u001b[0m\u001b[1;33m\u001b[0m\u001b[0m\n",
      "\u001b[1;31mNameError\u001b[0m: name 'roi_bottom' is not defined"
     ]
    }
   ],
   "source": [
    "cam=cv2.VideoCapture(0)\n",
    "\n",
    "num_frames=0\n",
    "\n",
    "\n",
    "while True:\n",
    "    \n",
    "    \n",
    "    \n",
    "    ret,frame=cam.read()\n",
    "    frame_copy=frame.copy()\n",
    "    roi=frame[roi_top:roi_bottom,roi_right:roi_left]\n",
    "    gray=cv2.cvtColor(roi,cv2.COLOR+BGR2GRAY)\n",
    "    gray=cv2.GaussianBlur(gray,(7,7),0)\n",
    "    \n",
    "    if num_frame<60:\n",
    "        calc_accum_acg(gray,accumlated_weight)\n",
    "        if num_frame<=59:\n",
    "            cv2.putText(frame_copy,'WAIT. GETTING BG',(200,200),cv2.FONT_HERSHEY_COMPLEX,1,(0,0,255),2)\n",
    "            cv2.imshow('finger count',frame_copy)   \n",
    "    else: \n",
    "        \n",
    "        hand = segment(gray)\n",
    "        \n",
    "        if hand is not None:\n",
    "            thresholded,hand_segment=hand\n",
    "            \n",
    "            cv2.drawContours(frame_copy,[hand_segment+(roi_right,roi_top)],-1(255,0,0),5)\n",
    "            fingers=count_fingers(thresholded,hand_segment)\n",
    "            \n",
    "            cv2.putText(frame_copy,str(fingers),(70,50),cv2.FONT_HERSHEY_SIMPLEX,2)\n",
    "            cv2.imshow('THRESHOLDED',thresholded)\n",
    "    cv2.rectangle(frame_copy,(roi_left,roi_top),(roi_right,roi_bottom),(0,0,255),5)\n",
    "    num_frame+=1\n",
    "    cv2.imshow('finger count',frame_copy)\n",
    "    k=cv2.waitKey(1)& 0xFF\n",
    "    if k==27:\n",
    "        break\n",
    "cam.release()\n",
    "cv2.destroyAllWindows()"
   ]
  },
  {
   "cell_type": "code",
   "execution_count": null,
   "metadata": {},
   "outputs": [],
   "source": []
  }
 ],
 "metadata": {
  "kernelspec": {
   "display_name": "Python 3",
   "language": "python",
   "name": "python3"
  },
  "language_info": {
   "codemirror_mode": {
    "name": "ipython",
    "version": 3
   },
   "file_extension": ".py",
   "mimetype": "text/x-python",
   "name": "python",
   "nbconvert_exporter": "python",
   "pygments_lexer": "ipython3",
   "version": "3.7.6"
  }
 },
 "nbformat": 4,
 "nbformat_minor": 4
}
